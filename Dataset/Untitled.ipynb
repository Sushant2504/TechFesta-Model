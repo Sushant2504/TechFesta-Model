{
 "cells": [
  {
   "cell_type": "code",
   "execution_count": 1,
   "id": "aaa3b300-1cca-4553-85c6-b1031cd79a1d",
   "metadata": {},
   "outputs": [
    {
     "name": "stderr",
     "output_type": "stream",
     "text": [
      "C:\\Users\\kunal\\AppData\\Local\\Programs\\Python\\Python311\\Lib\\site-packages\\tqdm\\auto.py:21: TqdmWarning: IProgress not found. Please update jupyter and ipywidgets. See https://ipywidgets.readthedocs.io/en/stable/user_install.html\n",
      "  from .autonotebook import tqdm as notebook_tqdm\n"
     ]
    },
    {
     "name": "stdout",
     "output_type": "stream",
     "text": [
      "WARNING:tensorflow:From C:\\Users\\kunal\\AppData\\Local\\Programs\\Python\\Python311\\Lib\\site-packages\\tf_keras\\src\\losses.py:2976: The name tf.losses.sparse_softmax_cross_entropy is deprecated. Please use tf.compat.v1.losses.sparse_softmax_cross_entropy instead.\n",
      "\n"
     ]
    }
   ],
   "source": [
    "from sentence_transformers import SentenceTransformer\n",
    "import faiss"
   ]
  },
  {
   "cell_type": "code",
   "execution_count": 10,
   "id": "8667a9b0-2da1-4590-a306-09829e43c523",
   "metadata": {},
   "outputs": [],
   "source": [
    "import pandas as pd\n",
    "import numpy as np"
   ]
  },
  {
   "cell_type": "code",
   "execution_count": 2,
   "id": "746f37a0-6bd1-42b3-8088-22d0f84b841e",
   "metadata": {},
   "outputs": [],
   "source": [
    "encoder = SentenceTransformer(\"sentence-transformers/all-mpnet-base-v2\")"
   ]
  },
  {
   "cell_type": "code",
   "execution_count": 5,
   "id": "63569ef6-9ce8-4cda-8bf0-fc601be38bcd",
   "metadata": {},
   "outputs": [],
   "source": [
    "df = pd.read_csv('updated_specialists.csv')"
   ]
  },
  {
   "cell_type": "code",
   "execution_count": 6,
   "id": "e713adf3-938c-4f6e-9208-36315e457058",
   "metadata": {},
   "outputs": [],
   "source": [
    "vector = encoder.encode(df['Symptoms'])"
   ]
  },
  {
   "cell_type": "code",
   "execution_count": 7,
   "id": "74a0b5c2-a913-4154-866c-049ba0c7bc99",
   "metadata": {},
   "outputs": [],
   "source": [
    "dim = vector.shape[1]\n",
    "ind1 = faiss.IndexFlatL2(dim)\n",
    "ind1.add(vector)"
   ]
  },
  {
   "cell_type": "code",
   "execution_count": 8,
   "id": "fd14858a-2ccc-4658-b6db-1cc06ebc5a0e",
   "metadata": {},
   "outputs": [],
   "source": [
    "faiss.write_index(ind1,'faiss_index.bin')"
   ]
  },
  {
   "cell_type": "code",
   "execution_count": 11,
   "id": "f511c02c-dac9-4370-b629-f3ee1ca4d3df",
   "metadata": {},
   "outputs": [],
   "source": [
    "search_query = \"Cough\"\n",
    "\n",
    "vec = encoder.encode(search_query)\n",
    "svec = np.array(vec).reshape(1,-1)\n",
    "res = ind1.search(svec,k=10)"
   ]
  },
  {
   "cell_type": "code",
   "execution_count": 14,
   "id": "e237926e-0fb6-4ba0-89a8-8376d269d344",
   "metadata": {},
   "outputs": [
    {
     "name": "stdout",
     "output_type": "stream",
     "text": [
      "['General Physician' 'Hematologist' 'Pulmonologist' 'General Physician'\n",
      " 'Psychiatrist' 'Infectious disease specialist' 'Neurologist'\n",
      " 'ENT SpecialistOt' 'Endocrinologist' 'General Physician']\n"
     ]
    }
   ],
   "source": [
    "for item in res[1]:\n",
    "    print(df.iloc[item,2].values)"
   ]
  },
  {
   "cell_type": "code",
   "execution_count": null,
   "id": "3161a009-d224-4a7f-a8b8-59c3f5225abd",
   "metadata": {},
   "outputs": [],
   "source": []
  }
 ],
 "metadata": {
  "kernelspec": {
   "display_name": "Python 3 (ipykernel)",
   "language": "python",
   "name": "python3"
  },
  "language_info": {
   "codemirror_mode": {
    "name": "ipython",
    "version": 3
   },
   "file_extension": ".py",
   "mimetype": "text/x-python",
   "name": "python",
   "nbconvert_exporter": "python",
   "pygments_lexer": "ipython3",
   "version": "3.11.4"
  }
 },
 "nbformat": 4,
 "nbformat_minor": 5
}
